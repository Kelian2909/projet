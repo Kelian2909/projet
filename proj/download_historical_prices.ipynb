{
 "cells": [
  {
   "cell_type": "code",
   "execution_count": 1,
   "id": "29d7bb7d",
   "metadata": {},
   "outputs": [
    {
     "name": "stdout",
     "output_type": "stream",
     "text": [
      "Requirement already satisfied: yfinance in c:\\users\\kelia\\appdata\\local\\programs\\python\\python313\\lib\\site-packages (0.2.55)\n",
      "Requirement already satisfied: pandas>=1.3.0 in c:\\users\\kelia\\appdata\\local\\programs\\python\\python313\\lib\\site-packages (from yfinance) (2.2.3)\n",
      "Requirement already satisfied: numpy>=1.16.5 in c:\\users\\kelia\\appdata\\local\\programs\\python\\python313\\lib\\site-packages (from yfinance) (2.2.1)\n",
      "Requirement already satisfied: requests>=2.31 in c:\\users\\kelia\\appdata\\local\\programs\\python\\python313\\lib\\site-packages (from yfinance) (2.32.3)\n",
      "Requirement already satisfied: multitasking>=0.0.7 in c:\\users\\kelia\\appdata\\local\\programs\\python\\python313\\lib\\site-packages (from yfinance) (0.0.11)\n",
      "Requirement already satisfied: platformdirs>=2.0.0 in c:\\users\\kelia\\appdata\\roaming\\python\\python313\\site-packages (from yfinance) (4.3.6)\n",
      "Requirement already satisfied: pytz>=2022.5 in c:\\users\\kelia\\appdata\\local\\programs\\python\\python313\\lib\\site-packages (from yfinance) (2025.1)\n",
      "Requirement already satisfied: frozendict>=2.3.4 in c:\\users\\kelia\\appdata\\local\\programs\\python\\python313\\lib\\site-packages (from yfinance) (2.4.6)\n",
      "Requirement already satisfied: peewee>=3.16.2 in c:\\users\\kelia\\appdata\\local\\programs\\python\\python313\\lib\\site-packages (from yfinance) (3.17.9)\n",
      "Requirement already satisfied: beautifulsoup4>=4.11.1 in c:\\users\\kelia\\appdata\\local\\programs\\python\\python313\\lib\\site-packages (from yfinance) (4.13.3)\n",
      "Requirement already satisfied: soupsieve>1.2 in c:\\users\\kelia\\appdata\\local\\programs\\python\\python313\\lib\\site-packages (from beautifulsoup4>=4.11.1->yfinance) (2.6)\n",
      "Requirement already satisfied: typing-extensions>=4.0.0 in c:\\users\\kelia\\appdata\\local\\programs\\python\\python313\\lib\\site-packages (from beautifulsoup4>=4.11.1->yfinance) (4.12.2)\n",
      "Requirement already satisfied: python-dateutil>=2.8.2 in c:\\users\\kelia\\appdata\\roaming\\python\\python313\\site-packages (from pandas>=1.3.0->yfinance) (2.9.0.post0)\n",
      "Requirement already satisfied: tzdata>=2022.7 in c:\\users\\kelia\\appdata\\local\\programs\\python\\python313\\lib\\site-packages (from pandas>=1.3.0->yfinance) (2025.1)\n",
      "Requirement already satisfied: charset-normalizer<4,>=2 in c:\\users\\kelia\\appdata\\local\\programs\\python\\python313\\lib\\site-packages (from requests>=2.31->yfinance) (3.4.1)\n",
      "Requirement already satisfied: idna<4,>=2.5 in c:\\users\\kelia\\appdata\\local\\programs\\python\\python313\\lib\\site-packages (from requests>=2.31->yfinance) (3.10)\n",
      "Requirement already satisfied: urllib3<3,>=1.21.1 in c:\\users\\kelia\\appdata\\local\\programs\\python\\python313\\lib\\site-packages (from requests>=2.31->yfinance) (2.3.0)\n",
      "Requirement already satisfied: certifi>=2017.4.17 in c:\\users\\kelia\\appdata\\local\\programs\\python\\python313\\lib\\site-packages (from requests>=2.31->yfinance) (2025.1.31)\n",
      "Requirement already satisfied: six>=1.5 in c:\\users\\kelia\\appdata\\roaming\\python\\python313\\site-packages (from python-dateutil>=2.8.2->pandas>=1.3.0->yfinance) (1.17.0)\n",
      "Requirement already satisfied: pandas_datareader in c:\\users\\kelia\\appdata\\local\\programs\\python\\python313\\lib\\site-packages (0.10.0)\n",
      "Requirement already satisfied: lxml in c:\\users\\kelia\\appdata\\local\\programs\\python\\python313\\lib\\site-packages (from pandas_datareader) (5.3.1)\n",
      "Requirement already satisfied: pandas>=0.23 in c:\\users\\kelia\\appdata\\local\\programs\\python\\python313\\lib\\site-packages (from pandas_datareader) (2.2.3)\n",
      "Requirement already satisfied: requests>=2.19.0 in c:\\users\\kelia\\appdata\\local\\programs\\python\\python313\\lib\\site-packages (from pandas_datareader) (2.32.3)\n",
      "Requirement already satisfied: numpy>=1.26.0 in c:\\users\\kelia\\appdata\\local\\programs\\python\\python313\\lib\\site-packages (from pandas>=0.23->pandas_datareader) (2.2.1)\n",
      "Requirement already satisfied: python-dateutil>=2.8.2 in c:\\users\\kelia\\appdata\\roaming\\python\\python313\\site-packages (from pandas>=0.23->pandas_datareader) (2.9.0.post0)\n",
      "Requirement already satisfied: pytz>=2020.1 in c:\\users\\kelia\\appdata\\local\\programs\\python\\python313\\lib\\site-packages (from pandas>=0.23->pandas_datareader) (2025.1)\n",
      "Requirement already satisfied: tzdata>=2022.7 in c:\\users\\kelia\\appdata\\local\\programs\\python\\python313\\lib\\site-packages (from pandas>=0.23->pandas_datareader) (2025.1)\n",
      "Requirement already satisfied: charset-normalizer<4,>=2 in c:\\users\\kelia\\appdata\\local\\programs\\python\\python313\\lib\\site-packages (from requests>=2.19.0->pandas_datareader) (3.4.1)\n",
      "Requirement already satisfied: idna<4,>=2.5 in c:\\users\\kelia\\appdata\\local\\programs\\python\\python313\\lib\\site-packages (from requests>=2.19.0->pandas_datareader) (3.10)\n",
      "Requirement already satisfied: urllib3<3,>=1.21.1 in c:\\users\\kelia\\appdata\\local\\programs\\python\\python313\\lib\\site-packages (from requests>=2.19.0->pandas_datareader) (2.3.0)\n",
      "Requirement already satisfied: certifi>=2017.4.17 in c:\\users\\kelia\\appdata\\local\\programs\\python\\python313\\lib\\site-packages (from requests>=2.19.0->pandas_datareader) (2025.1.31)\n",
      "Requirement already satisfied: six>=1.5 in c:\\users\\kelia\\appdata\\roaming\\python\\python313\\site-packages (from python-dateutil>=2.8.2->pandas>=0.23->pandas_datareader) (1.17.0)\n",
      "Requirement already satisfied: pandas in c:\\users\\kelia\\appdata\\local\\programs\\python\\python313\\lib\\site-packages (2.2.3)\n",
      "Requirement already satisfied: numpy>=1.26.0 in c:\\users\\kelia\\appdata\\local\\programs\\python\\python313\\lib\\site-packages (from pandas) (2.2.1)\n",
      "Requirement already satisfied: python-dateutil>=2.8.2 in c:\\users\\kelia\\appdata\\roaming\\python\\python313\\site-packages (from pandas) (2.9.0.post0)\n",
      "Requirement already satisfied: pytz>=2020.1 in c:\\users\\kelia\\appdata\\local\\programs\\python\\python313\\lib\\site-packages (from pandas) (2025.1)\n",
      "Requirement already satisfied: tzdata>=2022.7 in c:\\users\\kelia\\appdata\\local\\programs\\python\\python313\\lib\\site-packages (from pandas) (2025.1)\n",
      "Requirement already satisfied: six>=1.5 in c:\\users\\kelia\\appdata\\roaming\\python\\python313\\site-packages (from python-dateutil>=2.8.2->pandas) (1.17.0)\n"
     ]
    }
   ],
   "source": [
    "#!/usr/bin/env python3\n",
    "# -- coding: utf-8 --\n",
    "\"\"\"\n",
    "Ce script télécharge les cours boursiers historiques (prix ajustés) pour une liste de tickers\n",
    "issue du dossier \"intraQuarter/_KeyStats/\". Il enregistre ensuite ces données dans des CSV.\n",
    "Il télécharge également l'ETF SPY (S&P500) sur la même période.\n",
    "\"\"\"\n",
    "!pip install yfinance\n",
    "!pip install pandas_datareader\n",
    "!pip install pandas\n",
    "\n",
    "\n",
    "import os\n",
    "import pandas as pd\n",
    "import yfinance as yf\n",
    "from pandas_datareader import data as pdr\n",
    "\n",
    "# On redéfinit la fonction de téléchargement pour utiliser yfinance\n",
    "pdr.get_data_yahoo = yf.download\n",
    "\n",
    "# Définition de la période de téléchargement\n",
    "START_DATE = \"2018-01-01\"\n",
    "END_DATE = \"2023-01-01\""
   ]
  },
  {
   "cell_type": "code",
   "execution_count": 2,
   "id": "c8bdb875",
   "metadata": {},
   "outputs": [],
   "source": [
    "\n",
    "def build_stock_dataset(start=START_DATE, end=END_DATE):\n",
    "    \"\"\"\n",
    "    Télécharge et construit un CSV stock_prices.csv contenant\n",
    "    le prix de clôture ajusté (Adj Close) pour tous les tickers\n",
    "    trouvés dans le dossier intraQuarter/_KeyStats/.\n",
    "    \"\"\"\n",
    "\n",
    "    # Chemin menant au dossier contenant les tickers\n",
    "    statspath = \"intraQuarter/_KeyStats/\"\n",
    "\n",
    "    # On récupère la liste des fichiers et dossiers à l'intérieur de statspath\n",
    "    ticker_list = os.listdir(statspath)\n",
    "\n",
    "    # Sur macOS, \".DS_Store\" est un fichier caché qui peut gêner la liste des tickers\n",
    "    # On le retire s'il existe\n",
    "    if \".DS_Store\" in ticker_list:\n",
    "        os.remove(os.path.join(statspath, \".DS_Store\"))\n",
    "        ticker_list.remove(\".DS_Store\")\n",
    "\n",
    "    # (Optionnel) S'assurer que tout est en majuscules (par sécurité)\n",
    "    ticker_list = [t.upper() for t in ticker_list]\n",
    "\n",
    "    # Téléchargement des données pour tous les tickers, en désactivant l'ajustement automatique\n",
    "    # pour avoir la colonne \"Adj Close\" séparée de \"Close\"\n",
    "    all_data = pdr.get_data_yahoo(ticker_list, start=start, end=end, auto_adjust=False)\n",
    "\n",
    "    # On ne garde que la colonne \"Adj Close\"\n",
    "    stock_data = all_data[\"Adj Close\"]\n",
    "\n",
    "    # Certains tickers peuvent être vides (aucune donnée) : on les retire\n",
    "    stock_data = stock_data.copy()\n",
    "    stock_data.dropna(how=\"all\", axis=1, inplace=True)\n",
    "    stock_data.ffill(inplace=True)\n",
    "\n",
    "\n",
    "    # Pour information : on liste les tickers manquants\n",
    "    # (i.e. ceux qui ne figurent pas en colonne)\n",
    "    missing_tickers = [\n",
    "        ticker for ticker in ticker_list\n",
    "        if ticker not in stock_data.columns\n",
    "    ]\n",
    "    print(f\"{len(missing_tickers)} tickers manquants : {missing_tickers}\")\n",
    "\n",
    "    # On applique un forward fill pour combler les dates manquantes (si besoin)\n",
    "    stock_data.ffill(inplace=True)\n",
    "\n",
    "    # On enregistre le DataFrame final dans un CSV\n",
    "    stock_data.to_csv(\"stock_prices.csv\")\n",
    "    print(\"Fichier stock_prices.csv généré.\")"
   ]
  },
  {
   "cell_type": "code",
   "execution_count": 3,
   "id": "85df18ff",
   "metadata": {},
   "outputs": [],
   "source": [
    "def build_sp500_dataset(start=START_DATE, end=END_DATE):\n",
    "    \"\"\"\n",
    "    Télécharge et enregistre l'ETF SPY (qui suit l'indice S&P500)\n",
    "    dans un CSV sp500_index.csv.\n",
    "    \"\"\"\n",
    "    # Même logique, on peut choisir auto_adjust=False ou True\n",
    "    # Ici, peu importe, puisque c'est un seul ticker\n",
    "    index_data = pdr.get_data_yahoo(\"SPY\", start=START_DATE, end=END_DATE)\n",
    "    index_data.reset_index(inplace=True)  # remet la colonne Date au lieu de l'index\n",
    "    index_data.to_csv(\"sp500_index.csv\", index=False)\n",
    "\n",
    "    print(\"Fichier sp500_index.csv généré.\")"
   ]
  },
  {
   "cell_type": "code",
   "execution_count": 4,
   "id": "bc4ffe92",
   "metadata": {},
   "outputs": [],
   "source": [
    "def build_dataset_iteratively(idx_start, idx_end, date_start=START_DATE, date_end=END_DATE):\n",
    "    \"\"\"\n",
    "    Télécharge les données ticker par ticker (utile si la liste est trop grande\n",
    "    et que la requête groupée échoue).\n",
    "    - idx_start, idx_end : indices pour récupérer une partie (un \"chunk\") de la liste de tickers.\n",
    "    - date_start, date_end : limites temporelles du téléchargement.\n",
    "    \"\"\"\n",
    "    statspath = \"intraQuarter/_KeyStats/\"\n",
    "    ticker_list = os.listdir(statspath)\n",
    "\n",
    "    # On retire .DS_Store s'il existe\n",
    "    if \".DS_Store\" in ticker_list:\n",
    "        os.remove(os.path.join(statspath, \".DS_Store\"))\n",
    "        ticker_list.remove(\".DS_Store\")\n",
    "\n",
    "    # On crée un DataFrame vide pour y concaténer les prix ajustés de chaque ticker\n",
    "    df = pd.DataFrame()\n",
    "\n",
    "    # On parcourt les tickers sur la portion [idx_start:idx_end]\n",
    "    for ticker in ticker_list[idx_start:idx_end]:\n",
    "        ticker = ticker.upper()\n",
    "        try:\n",
    "            # Téléchargement des données pour 1 ticker\n",
    "            stock_ohlc = pdr.get_data_yahoo(ticker, start=date_start, end=date_end, auto_adjust=False)\n",
    "            if stock_ohlc.empty:\n",
    "                print(f\"Aucune donnée pour {ticker}\")\n",
    "                continue\n",
    "\n",
    "            # On renomme la colonne 'Adj Close' pour la concaténer plus facilement\n",
    "            adj_close = stock_ohlc[\"Adj Close\"].rename(ticker)\n",
    "            df = pd.concat([df, adj_close], axis=1)\n",
    "\n",
    "        except Exception as e:\n",
    "            print(f\"Erreur lors du téléchargement de {ticker}: {e}\")\n",
    "\n",
    "    # On enregistre le résultat dans un CSV\n",
    "    df.to_csv(\"stock_prices.csv\", mode=\"w\")\n",
    "    print(\"Fichier stock_prices.csv généré (mode itératif).\")"
   ]
  },
  {
   "cell_type": "code",
   "execution_count": 5,
   "id": "27cf681f",
   "metadata": {},
   "outputs": [
    {
     "name": "stderr",
     "output_type": "stream",
     "text": [
      "[*********************100%***********************]  2 of 2 completed\n",
      "[*********************100%***********************]  1 of 1 completed"
     ]
    },
    {
     "name": "stdout",
     "output_type": "stream",
     "text": [
      "0 tickers manquants : []\n",
      "Fichier stock_prices.csv généré.\n",
      "YF.download() has changed argument auto_adjust default to True\n",
      "Fichier sp500_index.csv généré.\n"
     ]
    },
    {
     "name": "stderr",
     "output_type": "stream",
     "text": [
      "\n"
     ]
    }
   ],
   "source": [
    "if __name__ == \"__main__\":\n",
    "    build_stock_dataset()\n",
    "    build_sp500_dataset()\n"
   ]
  }
 ],
 "metadata": {
  "jupytext": {
   "cell_metadata_filter": "-all",
   "main_language": "python",
   "notebook_metadata_filter": "-all"
  },
  "kernelspec": {
   "display_name": "Python 3",
   "language": "python",
   "name": "python3"
  },
  "language_info": {
   "codemirror_mode": {
    "name": "ipython",
    "version": 3
   },
   "file_extension": ".py",
   "mimetype": "text/x-python",
   "name": "python",
   "nbconvert_exporter": "python",
   "pygments_lexer": "ipython3",
   "version": "3.13.1"
  }
 },
 "nbformat": 4,
 "nbformat_minor": 5
}
