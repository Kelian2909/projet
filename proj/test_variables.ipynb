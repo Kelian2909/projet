{
 "cells": [
  {
   "cell_type": "code",
   "execution_count": 1,
   "id": "d04f47a6",
   "metadata": {},
   "outputs": [],
   "source": [
    "import os\n",
    "import parsing_keystats\n",
    "import current_data\n",
    "import stock_prediction"
   ]
  },
  {
   "cell_type": "code",
   "execution_count": 2,
   "id": "3b1a0ea2",
   "metadata": {},
   "outputs": [],
   "source": [
    "def test_statspath():\n",
    "    # Check that the statspath exists and is a directory\n",
    "    assert os.path.exists(current_data.statspath)\n",
    "    assert os.path.isdir(current_data.statspath)\n",
    "\n",
    "    assert parsing_keystats.statspath == current_data.statspath"
   ]
  },
  {
   "cell_type": "code",
   "execution_count": 3,
   "id": "af66cb1b",
   "metadata": {},
   "outputs": [],
   "source": [
    "def test_features_same():\n",
    "    # There are only four differences (intentionally)\n",
    "    assert set(parsing_keystats.features) - set(current_data.features) == {'Net Income Avl to Common', 'Qtrly Earnings Growth',\n",
    "                                                                           'Qtrly Revenue Growth', 'Shares Short (as of',\n",
    "                                                                           'Shares Short (prior month)'}\n",
    "    assert set(current_data.features) - set(parsing_keystats.features) == {'Net Income Avi to Common', 'Quarterly Earnings Growth',\n",
    "                                                                           'Shares Short', 'Quarterly Revenue Growth',\n",
    "                                                                           'Shares Short (prior month'}"
   ]
  },
  {
   "cell_type": "code",
   "execution_count": 4,
   "id": "088eca17",
   "metadata": {},
   "outputs": [],
   "source": [
    "def test_outperformance():\n",
    "    assert stock_prediction.OUTPERFORMANCE >= 0"
   ]
  }
 ],
 "metadata": {
  "jupytext": {
   "cell_metadata_filter": "-all",
   "main_language": "python",
   "notebook_metadata_filter": "-all"
  },
  "kernelspec": {
   "display_name": "Python 3",
   "language": "python",
   "name": "python3"
  },
  "language_info": {
   "codemirror_mode": {
    "name": "ipython",
    "version": 3
   },
   "file_extension": ".py",
   "mimetype": "text/x-python",
   "name": "python",
   "nbconvert_exporter": "python",
   "pygments_lexer": "ipython3",
   "version": "3.13.1"
  }
 },
 "nbformat": 4,
 "nbformat_minor": 5
}
