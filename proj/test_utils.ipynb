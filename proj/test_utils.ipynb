{
 "cells": [
  {
   "cell_type": "code",
   "execution_count": 2,
   "id": "82905a05",
   "metadata": {},
   "outputs": [
    {
     "name": "stdout",
     "output_type": "stream",
     "text": [
      "Requirement already satisfied: pytest in c:\\users\\kelia\\appdata\\local\\programs\\python\\python313\\lib\\site-packages (8.3.5)\n",
      "Requirement already satisfied: colorama in c:\\users\\kelia\\appdata\\roaming\\python\\python313\\site-packages (from pytest) (0.4.6)\n",
      "Requirement already satisfied: iniconfig in c:\\users\\kelia\\appdata\\local\\programs\\python\\python313\\lib\\site-packages (from pytest) (2.1.0)\n",
      "Requirement already satisfied: packaging in c:\\users\\kelia\\appdata\\roaming\\python\\python313\\site-packages (from pytest) (24.2)\n",
      "Requirement already satisfied: pluggy<2,>=1.5 in c:\\users\\kelia\\appdata\\local\\programs\\python\\python313\\lib\\site-packages (from pytest) (1.5.0)\n"
     ]
    }
   ],
   "source": [
    "!pip install pytest\n",
    "\n",
    "import pytest\n",
    "import utils"
   ]
  },
  {
   "cell_type": "code",
   "execution_count": 3,
   "id": "5cc1568c",
   "metadata": {},
   "outputs": [],
   "source": [
    "def test_status_calc():\n",
    "    \"\"\"\n",
    "    Test the status_calc function which generates training labels\n",
    "    \"\"\"\n",
    "    assert utils.status_calc(50, 20, 12.2) == 1\n",
    "    assert utils.status_calc(12.003, 10, 15) == 0\n",
    "    assert utils.status_calc(-10, -30, 5) == 1\n",
    "    assert utils.status_calc(-31, -30, 15) == 0\n",
    "    assert utils.status_calc(15, 5, 10) == 1\n",
    "\n",
    "    with pytest.raises(ValueError):\n",
    "        utils.status_calc(12, 10, -3)"
   ]
  },
  {
   "cell_type": "code",
   "execution_count": 4,
   "id": "bb35d13d",
   "metadata": {},
   "outputs": [],
   "source": [
    "def test_data_string_to_float():\n",
    "    \"\"\"\n",
    "    data_string_to_float() is a function that needs to meet lots of empirical requirements\n",
    "    owing to the idiosyncrasies of Yahoo Finance's HTML. The main jobs are parsing negatives and\n",
    "    abbreviations of big numbers.\n",
    "    \"\"\"\n",
    "    assert utils.data_string_to_float(\"asdfNaN\") == \"N/A\"\n",
    "    assert utils.data_string_to_float(\">N/A\\n</\") == \"N/A\"\n",
    "    assert utils.data_string_to_float(\">0\") == 0\n",
    "    assert utils.data_string_to_float(\"-3\") == -3\n",
    "    assert utils.data_string_to_float(\"4K\") == 4000\n",
    "    assert utils.data_string_to_float(\"2M\") == 2000000\n",
    "    assert utils.data_string_to_float(\"0.07B\") == 70000000\n",
    "    assert utils.data_string_to_float(\"-100.1K\") == -100100\n",
    "    assert utils.data_string_to_float(\"-0.1M\") == -100000\n",
    "    assert utils.data_string_to_float(\"-0.02B\") == -20000000\n",
    "    assert utils.data_string_to_float(\"-0.00\") == 0\n",
    "    assert utils.data_string_to_float(\"0.00\") == 0\n",
    "    assert utils.data_string_to_float(\"0M\") == 0\n",
    "    assert utils.data_string_to_float(\"010K\") == 10000\n",
    "\n",
    "    with pytest.raises(ValueError):\n",
    "        utils.data_string_to_float(\">0x\")\n",
    "    with pytest.raises(ValueError):\n",
    "        utils.data_string_to_float(\"10k\")\n",
    "    with pytest.raises(ValueError):\n",
    "        utils.data_string_to_float(\"2KB\")"
   ]
  }
 ],
 "metadata": {
  "jupytext": {
   "cell_metadata_filter": "-all",
   "main_language": "python",
   "notebook_metadata_filter": "-all"
  },
  "kernelspec": {
   "display_name": "Python 3",
   "language": "python",
   "name": "python3"
  },
  "language_info": {
   "codemirror_mode": {
    "name": "ipython",
    "version": 3
   },
   "file_extension": ".py",
   "mimetype": "text/x-python",
   "name": "python",
   "nbconvert_exporter": "python",
   "pygments_lexer": "ipython3",
   "version": "3.13.1"
  }
 },
 "nbformat": 4,
 "nbformat_minor": 5
}
