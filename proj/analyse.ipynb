{
 "cells": [
  {
   "cell_type": "code",
   "execution_count": 1,
   "id": "d5f11ed5",
   "metadata": {
    "lines_to_next_cell": 1
   },
   "outputs": [],
   "source": [
    "from __future__ import print_function"
   ]
  },
  {
   "cell_type": "code",
   "execution_count": 2,
   "id": "47b6673e",
   "metadata": {},
   "outputs": [],
   "source": [
    "def data_string_to_float(number_string):\n",
    "    \"\"\"\n",
    "    Cette fonction convertit une chaîne de caractères représentant un nombre en une valeur flottante.\n",
    "    Elle gère plusieurs cas particuliers :\n",
    "        - Certaines chaînes indiquent des valeurs en millions (\"M\"), milliards (\"B\") ou milliers (\"K\")\n",
    "          et ces unités sont converties en leur équivalent numérique.\n",
    "        - Si la chaîne contient \"N/A\" ou \"NaN\", la fonction retourne \"N/A\" pour indiquer une valeur non disponible.\n",
    "        - Si la chaîne est \">0\", ce qui est une anomalie de parsing indiquant une valeur proche de zéro,\n",
    "          la fonction retourne 0.\n",
    "        - Pour les autres cas, la chaîne est directement convertie en float.\n",
    "    :param number_string: chaîne de caractères issue d'une expression régulière à convertir en float.\n",
    "    :return: représentation flottante de la chaîne, en tenant compte des signes, unités et cas particuliers.\n",
    "    \"\"\"\n",
    "    # Si la chaîne indique une valeur non disponible, retourne \"N/A\"\n",
    "    if (\"N/A\" in number_string) or (\"NaN\" in number_string):\n",
    "        return \"N/A\"\n",
    "    # Cas particulier : si la chaîne est \">0\", on considère qu'il s'agit d'une valeur très proche de zéro\n",
    "    elif number_string == \">0\":\n",
    "        return 0\n",
    "    # Cas où la chaîne contient \"B\" pour milliards : on enlève le \"B\" et multiplie par 1 milliard\n",
    "    elif \"B\" in number_string:\n",
    "        return float(number_string.replace(\"B\", \"\")) * 1000000000\n",
    "    # Cas où la chaîne contient \"M\" pour millions : on enlève le \"M\" et multiplie par 1 million\n",
    "    elif \"M\" in number_string:\n",
    "        return float(number_string.replace(\"M\", \"\")) * 1000000\n",
    "    # Cas où la chaîne contient \"K\" pour milliers : on enlève le \"K\" et multiplie par 1 000\n",
    "    elif \"K\" in number_string:\n",
    "        return float(number_string.replace(\"K\", \"\")) * 1000\n",
    "    # Pour les autres chaînes, conversion directe en float\n",
    "    else:\n",
    "        return float(number_string)"
   ]
  },
  {
   "cell_type": "code",
   "execution_count": 3,
   "id": "41393024",
   "metadata": {},
   "outputs": [],
   "source": [
    "def duplicate_error_check(df):\n",
    "    \"\"\"\n",
    "    Cette fonction vérifie s'il y a des doublons dans les lignes d'un DataFrame.\n",
    "    Les doublons sont souvent symptomatiques d'une erreur de parsing.\n",
    "    Certains colonnes qui contiennent naturellement des valeurs identiques (comme \"Unix\", \"Price\", etc.)\n",
    "    sont d'abord supprimées pour éviter de fausses alertes.\n",
    "    Ensuite, pour chaque ligne, on compare chaque élément à son précédent dans la ligne et si des doublons\n",
    "    sont trouvés (autres que zéro qui est fréquent), on affiche l'indice de la ligne, la ligne concernée et\n",
    "    les valeurs dupliquées.\n",
    "    \n",
    "    :param df: le DataFrame à vérifier.\n",
    "    :return: Affiche la liste des lignes contenant des doublons et les valeurs dupliquées.\n",
    "    \"\"\"\n",
    "    # Suppression des colonnes qui peuvent contenir naturellement des doublons pour éviter des faux positifs\n",
    "    df.drop(\n",
    "        [\n",
    "            \"Unix\",\n",
    "            \"Price\",\n",
    "            \"stock_p_change\",\n",
    "            \"SP500\",\n",
    "            \"SP500_p_change\",\n",
    "            \"Float\",\n",
    "            \"200-Day Moving Average\",\n",
    "            \"Short Ratio\",\n",
    "            \"Operating Margin\",\n",
    "        ],\n",
    "        axis=1,\n",
    "        inplace=True,\n",
    "    )\n",
    "\n",
    "    # Parcours de chaque ligne du DataFrame\n",
    "    for i in range(len(df)):\n",
    "        # Vérification s'il existe des doublons dans la ligne\n",
    "        if pd.Series(df.iloc[i] == df.iloc[i].shift()).any():\n",
    "            # Récupération des valeurs apparaissant plus d'une fois dans la ligne\n",
    "            duplicates = set(\n",
    "                [x for x in list(df.iloc[i]) if list(df.iloc[i]).count(x) > 1]\n",
    "            )\n",
    "            # On ignore le cas fréquent où la valeur 0 est dupliquée\n",
    "            if duplicates != {0}:\n",
    "                # Affichage de l'indice de la ligne, de la ligne elle-même et des valeurs dupliquées\n",
    "                print(i, df.iloc[i], duplicates, sep = \"\\n\")"
   ]
  },
  {
   "cell_type": "code",
   "execution_count": 4,
   "id": "cc1b8658",
   "metadata": {},
   "outputs": [],
   "source": [
    "def status_calc(stock, sp500, outperformance=10):\n",
    "    \"\"\"\n",
    "    Cette fonction détermine si une action (stock) a surperformé l'indice S&P500 d'un certain seuil.\n",
    "    Le paramètre outperformance représente le nombre minimal de points par lesquels l'action doit dépasser\n",
    "    le S&P500 pour être considérée comme surperformante.\n",
    "    \n",
    "    :param stock: la valeur de l'action.\n",
    "    :param sp500: la valeur de l'indice S&P500.\n",
    "    :param outperformance: seuil de surperformance (doit être positif). Par défaut, 10.\n",
    "    :return: True si l'action surperforme le S&P500 de la valeur du seuil, False sinon.\n",
    "    \"\"\"\n",
    "    # Vérifie que le seuil de surperformance est positif, sinon lève une erreur\n",
    "    if outperformance < 0:\n",
    "        raise ValueError(\"outperformance must be positive\")\n",
    "    # Calcul de la différence entre le stock et le S&P500 et comparaison avec le seuil\n",
    "    return stock - sp500 >= outperformance"
   ]
  }
 ],
 "metadata": {
  "jupytext": {
   "cell_metadata_filter": "-all",
   "encoding": "# -*- coding: utf-8 -*-",
   "main_language": "python",
   "notebook_metadata_filter": "-all"
  },
  "kernelspec": {
   "display_name": "Python 3",
   "language": "python",
   "name": "python3"
  },
  "language_info": {
   "codemirror_mode": {
    "name": "ipython",
    "version": 3
   },
   "file_extension": ".py",
   "mimetype": "text/x-python",
   "name": "python",
   "nbconvert_exporter": "python",
   "pygments_lexer": "ipython3",
   "version": "3.13.1"
  }
 },
 "nbformat": 4,
 "nbformat_minor": 5
}
